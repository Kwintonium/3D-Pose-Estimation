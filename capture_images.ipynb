{
 "cells": [
  {
   "cell_type": "markdown",
   "metadata": {},
   "source": [
    "# Capture Images with Webcam"
   ]
  },
  {
   "cell_type": "code",
   "execution_count": 5,
   "metadata": {},
   "outputs": [
    {
     "name": "stdout",
     "output_type": "stream",
     "text": [
      "img_0.png written!\n",
      "img_1.png written!\n",
      "img_2.png written!\n",
      "img_3.png written!\n",
      "img_4.png written!\n",
      "img_5.png written!\n",
      "img_6.png written!\n"
     ]
    }
   ],
   "source": [
    "# importing OpenCV library\n",
    "import cv2\n",
    "\n",
    "# Initialize camera\n",
    "cam_port = 1\n",
    "cap = cv2.VideoCapture(cam_port)\n",
    "\n",
    "img_counter = 0\n",
    "\n",
    "while cap.isOpened():\n",
    "\n",
    "    result, frame = cap.read() # Read current frame\n",
    "\n",
    "    cv2.imshow('Movenet Multipose', frame) # Show live frame\n",
    "\n",
    "    if cv2.waitKey(1) & 0xFF==ord('q'): # Press q to quit live stream\n",
    "        break\n",
    "    elif cv2.waitKey(1) & 0xFF==ord('s'): # Press s to save image\n",
    "        # Adjust file path as needed\n",
    "        img_name = \"img_{}.png\".format(img_counter)\n",
    "        cv2.imwrite(img_name, frame)\n",
    "        print(\"{} written!\".format(img_name))\n",
    "        img_counter += 1\n",
    "\n",
    "cap.release()\n",
    "cv2.destroyAllWindows()"
   ]
  }
 ],
 "metadata": {
  "kernelspec": {
   "display_name": "Python 3.10.6 64-bit",
   "language": "python",
   "name": "python3"
  },
  "language_info": {
   "codemirror_mode": {
    "name": "ipython",
    "version": 3
   },
   "file_extension": ".py",
   "mimetype": "text/x-python",
   "name": "python",
   "nbconvert_exporter": "python",
   "pygments_lexer": "ipython3",
   "version": "3.10.6"
  },
  "orig_nbformat": 4,
  "vscode": {
   "interpreter": {
    "hash": "13fa9698f0cf9a95b1e3ac14834208a2a3f67f6514b973e68ad06ec34ce12b5a"
   }
  }
 },
 "nbformat": 4,
 "nbformat_minor": 2
}
